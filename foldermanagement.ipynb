{
 "cells": [
  {
   "cell_type": "code",
   "execution_count": 17,
   "metadata": {},
   "outputs": [],
   "source": [
    "import os\n",
    "import shutil\n",
    "import glob\n",
    "\n",
    "# Specify the path to the folder containing subfolders with images\n",
    "source_folder = 'outputshoplifting'\n",
    "\n",
    "# Specify the path to the folder where you want to copy the images\n",
    "destination_folder = 'shoplifting category'\n",
    "\n",
    "# Find all JPG files in subfolders of the source folder\n",
    "jpg_files = glob.glob(os.path.join(source_folder, '**/*.jpg'), recursive=True)\n",
    "\n",
    "# Track copied files to ensure unique names\n",
    "copied_files = set()\n",
    "\n",
    "# Copy each JPG file to the destination folder\n",
    "for jpg_file in jpg_files:\n",
    "    # Generate a unique name for the destination file\n",
    "    base_name = os.path.basename(jpg_file)\n",
    "    base, ext = os.path.splitext(base_name)\n",
    "    counter = 0\n",
    "    while base_name in copied_files:\n",
    "        counter += 1\n",
    "        base_name = f\"{base}_copy{counter}{ext}\"\n",
    "    copied_files.add(base_name)\n",
    "    \n",
    "    # Construct the destination file path by joining the destination folder path and the unique file name\n",
    "    destination_file_path = os.path.join(destination_folder, base_name)\n",
    "    # Copy the file to the destination folder\n",
    "    shutil.copyfile(jpg_file, destination_file_path)\n"
   ]
  },
  {
   "cell_type": "code",
   "execution_count": 18,
   "metadata": {},
   "outputs": [],
   "source": [
    "import os\n",
    "import shutil\n",
    "import glob\n",
    "\n",
    "# Specify the path to the folder containing subfolders with images\n",
    "source_folder = 'outputnormal'\n",
    "\n",
    "# Specify the path to the folder where you want to copy the images\n",
    "destination_folder = 'Normal category'\n",
    "\n",
    "# Find all JPG files in subfolders of the source folder\n",
    "jpg_files = glob.glob(os.path.join(source_folder, '**/*.jpg'), recursive=True)\n",
    "\n",
    "# Track copied files to ensure unique names\n",
    "copied_files = set()\n",
    "\n",
    "# Copy each JPG file to the destination folder\n",
    "for jpg_file in jpg_files:\n",
    "    # Generate a unique name for the destination file\n",
    "    base_name = os.path.basename(jpg_file)\n",
    "    base, ext = os.path.splitext(base_name)\n",
    "    counter = 0\n",
    "    while base_name in copied_files:\n",
    "        counter += 1\n",
    "        base_name = f\"{base}_copy{counter}{ext}\"\n",
    "    copied_files.add(base_name)\n",
    "    \n",
    "    # Construct the destination file path by joining the destination folder path and the unique file name\n",
    "    destination_file_path = os.path.join(destination_folder, base_name)\n",
    "    # Copy the file to the destination folder\n",
    "    shutil.copyfile(jpg_file, destination_file_path)\n"
   ]
  },
  {
   "cell_type": "code",
   "execution_count": 1,
   "metadata": {},
   "outputs": [
    {
     "name": "stdout",
     "output_type": "stream",
     "text": [
      "Copied 9960 images to Training dataset/Normal\n"
     ]
    }
   ],
   "source": [
    "import os\n",
    "import shutil\n",
    "import random\n",
    "\n",
    "# Path to the folder containing the images\n",
    "source_folder = \"Normal category\"\n",
    "\n",
    "# Path to the folder where you want to save the randomly selected images\n",
    "destination_folder = 'Training dataset/Normal'\n",
    "\n",
    "# Number of images to copy\n",
    "num_images_to_copy = 9960\n",
    "\n",
    "# Get a list of all files in the source folder\n",
    "all_files = os.listdir(source_folder)\n",
    "\n",
    "# Randomly select num_images_to_copy files\n",
    "selected_files = random.sample(all_files, num_images_to_copy)\n",
    "\n",
    "# Copy the selected files to the destination folder\n",
    "for file_name in selected_files:\n",
    "    source_file = os.path.join(source_folder, file_name)\n",
    "    destination_file = os.path.join(destination_folder, file_name)\n",
    "    shutil.copyfile(source_file, destination_file)\n",
    "\n",
    "print(\"Copied\", num_images_to_copy, \"images to\", destination_folder)\n"
   ]
  },
  {
   "cell_type": "code",
   "execution_count": null,
   "metadata": {},
   "outputs": [],
   "source": []
  }
 ],
 "metadata": {
  "kernelspec": {
   "display_name": "python8",
   "language": "python",
   "name": "python3"
  },
  "language_info": {
   "codemirror_mode": {
    "name": "ipython",
    "version": 3
   },
   "file_extension": ".py",
   "mimetype": "text/x-python",
   "name": "python",
   "nbconvert_exporter": "python",
   "pygments_lexer": "ipython3",
   "version": "3.8.19"
  }
 },
 "nbformat": 4,
 "nbformat_minor": 2
}
