{
 "cells": [
  {
   "cell_type": "code",
   "execution_count": 4,
   "metadata": {},
   "outputs": [
    {
     "name": "stdout",
     "output_type": "stream",
     "text": [
      "\n",
      "Original file:\n"
     ]
    },
    {
     "data": {
      "text/html": [
       "<div>\n",
       "<style scoped>\n",
       "    .dataframe tbody tr th:only-of-type {\n",
       "        vertical-align: middle;\n",
       "    }\n",
       "\n",
       "    .dataframe tbody tr th {\n",
       "        vertical-align: top;\n",
       "    }\n",
       "\n",
       "    .dataframe thead th {\n",
       "        text-align: right;\n",
       "    }\n",
       "</style>\n",
       "<table border=\"1\" class=\"dataframe\">\n",
       "  <thead>\n",
       "    <tr style=\"text-align: right;\">\n",
       "      <th></th>\n",
       "      <th>Shoplifting001_x264_0</th>\n",
       "      <th>0</th>\n",
       "    </tr>\n",
       "  </thead>\n",
       "  <tbody>\n",
       "    <tr>\n",
       "      <th>0</th>\n",
       "      <td>Shoplifting001_x264_1</td>\n",
       "      <td>0</td>\n",
       "    </tr>\n",
       "    <tr>\n",
       "      <th>1</th>\n",
       "      <td>Shoplifting001_x264_2</td>\n",
       "      <td>0</td>\n",
       "    </tr>\n",
       "    <tr>\n",
       "      <th>2</th>\n",
       "      <td>Shoplifting001_x264_3</td>\n",
       "      <td>0</td>\n",
       "    </tr>\n",
       "    <tr>\n",
       "      <th>3</th>\n",
       "      <td>Shoplifting001_x264_4</td>\n",
       "      <td>0</td>\n",
       "    </tr>\n",
       "    <tr>\n",
       "      <th>4</th>\n",
       "      <td>Shoplifting001_x264_5</td>\n",
       "      <td>0</td>\n",
       "    </tr>\n",
       "  </tbody>\n",
       "</table>\n",
       "</div>"
      ],
      "text/plain": [
       "   Shoplifting001_x264_0  0\n",
       "0  Shoplifting001_x264_1  0\n",
       "1  Shoplifting001_x264_2  0\n",
       "2  Shoplifting001_x264_3  0\n",
       "3  Shoplifting001_x264_4  0\n",
       "4  Shoplifting001_x264_5  0"
      ]
     },
     "execution_count": 4,
     "metadata": {},
     "output_type": "execute_result"
    }
   ],
   "source": [
    "# importing python package \n",
    "import pandas as pd \n",
    "\n",
    "# read contents of csv file \n",
    "file = pd.read_csv(\"Shoplifting.csv\") \n",
    "print(\"\\nOriginal file:\") \n",
    "file.head()"
   ]
  },
  {
   "cell_type": "code",
   "execution_count": 5,
   "metadata": {},
   "outputs": [
    {
     "name": "stdout",
     "output_type": "stream",
     "text": [
      "\n",
      "Modified file:\n",
      "                  videoname  label\n",
      "0     Shoplifting001_x264_1      0\n",
      "1     Shoplifting001_x264_2      0\n",
      "2     Shoplifting001_x264_3      0\n",
      "3     Shoplifting001_x264_4      0\n",
      "4     Shoplifting001_x264_5      0\n",
      "..                      ...    ...\n",
      "890  Shoplifting054_x264_27      0\n",
      "891  Shoplifting054_x264_28      0\n",
      "892  Shoplifting054_x264_29      0\n",
      "893  Shoplifting054_x264_30      0\n",
      "894  Shoplifting054_x264_31      0\n",
      "\n",
      "[895 rows x 2 columns]\n"
     ]
    }
   ],
   "source": [
    "# adding header \n",
    "header =  ['videoname', 'label'] \n",
    "\n",
    "# converting data frame to csv \n",
    "file.to_csv(\"newshoplifting.csv\", header=header, index=False) \n",
    "\n",
    "# display modified csv file \n",
    "file2 = pd.read_csv(\"newshoplifting.csv\") \n",
    "print('\\nModified file:') \n",
    "print(file2) \n"
   ]
  },
  {
   "cell_type": "code",
   "execution_count": null,
   "metadata": {},
   "outputs": [],
   "source": []
  }
 ],
 "metadata": {
  "kernelspec": {
   "display_name": "python8",
   "language": "python",
   "name": "python3"
  },
  "language_info": {
   "codemirror_mode": {
    "name": "ipython",
    "version": 3
   },
   "file_extension": ".py",
   "mimetype": "text/x-python",
   "name": "python",
   "nbconvert_exporter": "python",
   "pygments_lexer": "ipython3",
   "version": "3.8.19"
  }
 },
 "nbformat": 4,
 "nbformat_minor": 2
}
